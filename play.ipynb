{
 "cells": [
  {
   "cell_type": "code",
   "execution_count": 1,
   "id": "43f1413d",
   "metadata": {},
   "outputs": [],
   "source": [
    "import os"
   ]
  },
  {
   "cell_type": "code",
   "execution_count": 3,
   "id": "8903d362",
   "metadata": {},
   "outputs": [
    {
     "name": "stdout",
     "output_type": "stream",
     "text": [
      "Total images in training data : 82783\n"
     ]
    }
   ],
   "source": [
    "print(f'Total images in training data : {(len(os.listdir(\"coco/images/train2014/\")))}')"
   ]
  },
  {
   "cell_type": "code",
   "execution_count": 4,
   "id": "a541784a",
   "metadata": {},
   "outputs": [
    {
     "name": "stdout",
     "output_type": "stream",
     "text": [
      "Total images in validation data : 40504\n"
     ]
    }
   ],
   "source": [
    "print(f'Total images in validation data : {(len(os.listdir(\"coco/images/val2014/\")))}')"
   ]
  },
  {
   "cell_type": "code",
   "execution_count": 5,
   "id": "375963a1",
   "metadata": {},
   "outputs": [],
   "source": [
    "total_images = len(os.listdir(\"coco/images/train2014/\")) + len(os.listdir(\"coco/images/val2014/\"))"
   ]
  },
  {
   "cell_type": "code",
   "execution_count": 6,
   "id": "4ed84188",
   "metadata": {},
   "outputs": [
    {
     "data": {
      "text/plain": [
       "123287"
      ]
     },
     "execution_count": 6,
     "metadata": {},
     "output_type": "execute_result"
    }
   ],
   "source": [
    "total_images "
   ]
  },
  {
   "cell_type": "code",
   "execution_count": 7,
   "id": "a102200a",
   "metadata": {},
   "outputs": [],
   "source": [
    "train_set_size = int(0.8 * total_images)\n",
    "val_set_size = int(0.1 * total_images)\n",
    "test_set_size = total_images - train_set_size - val_set_size"
   ]
  },
  {
   "cell_type": "code",
   "execution_count": 8,
   "id": "976bcd95",
   "metadata": {},
   "outputs": [
    {
     "data": {
      "text/plain": [
       "(98629, 12328, 12330)"
      ]
     },
     "execution_count": 8,
     "metadata": {},
     "output_type": "execute_result"
    }
   ],
   "source": [
    "train_set_size , val_set_size, test_set_size"
   ]
  },
  {
   "cell_type": "code",
   "execution_count": 17,
   "id": "3dd547ee",
   "metadata": {},
   "outputs": [],
   "source": [
    "import json \n",
    "\n",
    "file_path = 'coco/annotations/captions_train2014.json'\n",
    "\n",
    "with open(file_path, 'r') as file:\n",
    "    data = json.load(file)\n",
    "\n"
   ]
  },
  {
   "cell_type": "code",
   "execution_count": 18,
   "id": "fdedbbf8",
   "metadata": {},
   "outputs": [
    {
     "data": {
      "text/plain": [
       "dict_keys(['info', 'images', 'licenses', 'annotations'])"
      ]
     },
     "execution_count": 18,
     "metadata": {},
     "output_type": "execute_result"
    }
   ],
   "source": [
    "data.keys()"
   ]
  },
  {
   "cell_type": "code",
   "execution_count": 19,
   "id": "44af3576",
   "metadata": {},
   "outputs": [
    {
     "data": {
      "text/plain": [
       "list"
      ]
     },
     "execution_count": 19,
     "metadata": {},
     "output_type": "execute_result"
    }
   ],
   "source": [
    "type(data['images'])"
   ]
  },
  {
   "cell_type": "code",
   "execution_count": 20,
   "id": "19decfd3",
   "metadata": {},
   "outputs": [
    {
     "data": {
      "text/plain": [
       "list"
      ]
     },
     "execution_count": 20,
     "metadata": {},
     "output_type": "execute_result"
    }
   ],
   "source": [
    "type(data['annotations'])"
   ]
  },
  {
   "cell_type": "code",
   "execution_count": 21,
   "id": "a34658b4",
   "metadata": {},
   "outputs": [
    {
     "data": {
      "text/plain": [
       "82783"
      ]
     },
     "execution_count": 21,
     "metadata": {},
     "output_type": "execute_result"
    }
   ],
   "source": [
    "len(data['images'])"
   ]
  },
  {
   "cell_type": "code",
   "execution_count": 22,
   "id": "0e65ecfb",
   "metadata": {},
   "outputs": [
    {
     "data": {
      "text/plain": [
       "414113"
      ]
     },
     "execution_count": 22,
     "metadata": {},
     "output_type": "execute_result"
    }
   ],
   "source": [
    "len(data['annotations'])"
   ]
  },
  {
   "cell_type": "code",
   "execution_count": 23,
   "id": "637b714b",
   "metadata": {},
   "outputs": [
    {
     "data": {
      "text/plain": [
       "[{'image_id': 318556,\n",
       "  'id': 48,\n",
       "  'caption': 'A very clean and well decorated empty bathroom'},\n",
       " {'image_id': 116100,\n",
       "  'id': 67,\n",
       "  'caption': 'A panoramic view of a kitchen and all of its appliances.'},\n",
       " {'image_id': 318556,\n",
       "  'id': 126,\n",
       "  'caption': 'A blue and white bathroom with butterfly themed wall tiles.'},\n",
       " {'image_id': 116100,\n",
       "  'id': 148,\n",
       "  'caption': 'A panoramic photo of a kitchen and dining room'},\n",
       " {'image_id': 379340,\n",
       "  'id': 173,\n",
       "  'caption': 'A graffiti-ed stop sign across the street from a red car '}]"
      ]
     },
     "execution_count": 23,
     "metadata": {},
     "output_type": "execute_result"
    }
   ],
   "source": [
    "data['annotations'][:5]"
   ]
  },
  {
   "cell_type": "code",
   "execution_count": 24,
   "id": "c1f700b4",
   "metadata": {},
   "outputs": [
    {
     "data": {
      "text/plain": [
       "[{'license': 5,\n",
       "  'file_name': 'COCO_train2014_000000057870.jpg',\n",
       "  'coco_url': 'http://images.cocodataset.org/train2014/COCO_train2014_000000057870.jpg',\n",
       "  'height': 480,\n",
       "  'width': 640,\n",
       "  'date_captured': '2013-11-14 16:28:13',\n",
       "  'flickr_url': 'http://farm4.staticflickr.com/3153/2970773875_164f0c0b83_z.jpg',\n",
       "  'id': 57870},\n",
       " {'license': 5,\n",
       "  'file_name': 'COCO_train2014_000000384029.jpg',\n",
       "  'coco_url': 'http://images.cocodataset.org/train2014/COCO_train2014_000000384029.jpg',\n",
       "  'height': 429,\n",
       "  'width': 640,\n",
       "  'date_captured': '2013-11-14 16:29:45',\n",
       "  'flickr_url': 'http://farm3.staticflickr.com/2422/3577229611_3a3235458a_z.jpg',\n",
       "  'id': 384029},\n",
       " {'license': 1,\n",
       "  'file_name': 'COCO_train2014_000000222016.jpg',\n",
       "  'coco_url': 'http://images.cocodataset.org/train2014/COCO_train2014_000000222016.jpg',\n",
       "  'height': 640,\n",
       "  'width': 480,\n",
       "  'date_captured': '2013-11-14 16:37:59',\n",
       "  'flickr_url': 'http://farm2.staticflickr.com/1431/1118526611_09172475e5_z.jpg',\n",
       "  'id': 222016},\n",
       " {'license': 3,\n",
       "  'file_name': 'COCO_train2014_000000520950.jpg',\n",
       "  'coco_url': 'http://images.cocodataset.org/train2014/COCO_train2014_000000520950.jpg',\n",
       "  'height': 427,\n",
       "  'width': 640,\n",
       "  'date_captured': '2013-11-14 16:44:40',\n",
       "  'flickr_url': 'http://farm8.staticflickr.com/7007/6413705793_1c391cd697_z.jpg',\n",
       "  'id': 520950},\n",
       " {'license': 4,\n",
       "  'file_name': 'COCO_train2014_000000069675.jpg',\n",
       "  'coco_url': 'http://images.cocodataset.org/train2014/COCO_train2014_000000069675.jpg',\n",
       "  'height': 480,\n",
       "  'width': 640,\n",
       "  'date_captured': '2013-11-14 16:46:33',\n",
       "  'flickr_url': 'http://farm8.staticflickr.com/7156/6415223357_5ef0955050_z.jpg',\n",
       "  'id': 69675}]"
      ]
     },
     "execution_count": 24,
     "metadata": {},
     "output_type": "execute_result"
    }
   ],
   "source": [
    "data['images'][:5]"
   ]
  }
 ],
 "metadata": {
  "kernelspec": {
   "display_name": "llm",
   "language": "python",
   "name": "python3"
  },
  "language_info": {
   "codemirror_mode": {
    "name": "ipython",
    "version": 3
   },
   "file_extension": ".py",
   "mimetype": "text/x-python",
   "name": "python",
   "nbconvert_exporter": "python",
   "pygments_lexer": "ipython3",
   "version": "3.10.16"
  }
 },
 "nbformat": 4,
 "nbformat_minor": 5
}
